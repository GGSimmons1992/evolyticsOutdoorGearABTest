{
 "cells": [
  {
   "cell_type": "code",
   "execution_count": null,
   "id": "9bb9af08-845b-4bd1-992e-e36bdc85d85f",
   "metadata": {},
   "outputs": [],
   "source": [
    "import numpy as np\n",
    "import pandas as pd\n",
    "import matplotlib.pyplot as plt\n",
    "from datetime import datetime\n",
    "from sklearn.linear_model import LinearRegression\n",
    "import scipy.stats as stats\n",
    "import datetime as dt\n",
    "import decimal\n",
    "from sklearn.model_selection import train_test_split\n",
    "from sklearn.ensemble import RandomForestClassifier as rfc\n",
    "from sklearn.ensemble import RandomForestRegressor as rfr\n",
    "import sklearn.metrics as sm\n",
    "import math\n",
    "\n",
    "import sys\n",
    "sys.path.insert(0, \"../src/\")\n",
    "import util as util\n",
    "\n",
    "%autosave 5"
   ]
  },
  {
   "cell_type": "code",
   "execution_count": null,
   "id": "05d20c8c-236c-4ff8-81af-8085427644f8",
   "metadata": {},
   "outputs": [],
   "source": [
    "df = pd.read_csv('../Data/EvolyticsDataScienceExercise.csv')\n",
    "revenueCols = [col for col in df.columns if 'purchase_revenue' in str(col)]\n",
    "revenuedf = (df[revenueCols])\n",
    "for col in revenueCols:\n",
    "    revenuedf[col] = pd.to_numeric(revenuedf[col],errors='coerce')\n",
    "df['orderRevenue'] = revenuedf.sum(axis=1)\n",
    "df['hikeRevenue'] = 0\n",
    "for i in range(df.shape[0]):\n",
    "    if 'HIKE' in df.iloc[i,df.columns.get_loc('purchase_product_1')]:\n",
    "        df.iloc[i,df.columns.get_loc('hikeRevenue')] = float(df.iloc[i,df.columns.get_loc('hikeRevenue')]) + float(df.iloc[i,df.columns.get_loc('purchase_revenue_product_1')])\n",
    "    if 'HIKE' in df.iloc[i,df.columns.get_loc('purchase_product_2')]:\n",
    "        df.iloc[i,df.columns.get_loc('hikeRevenue')] = float(df.iloc[i,df.columns.get_loc('hikeRevenue')]) + float(df.iloc[i,df.columns.get_loc('purchase_revenue_product_2')])\n",
    "    if 'HIKE' in df.iloc[i,df.columns.get_loc('purchase_product_3')]:\n",
    "        df.iloc[i,df.columns.get_loc('hikeRevenue')] = float(df.iloc[i,df.columns.get_loc('hikeRevenue')]) + float(df.iloc[i,df.columns.get_loc('purchase_revenue_product_3')])\n",
    "    if 'HIKE' in df.iloc[i,df.columns.get_loc('purchase_product_4')]:\n",
    "        df.iloc[i,df.columns.get_loc('hikeRevenue')] = float(df.iloc[i,df.columns.get_loc('hikeRevenue')]) + float(df.iloc[i,df.columns.get_loc('purchase_revenue_product_4')])"
   ]
  },
  {
   "cell_type": "code",
   "execution_count": null,
   "id": "d1e1294c-6cfb-4e03-9544-c237c88f79a6",
   "metadata": {},
   "outputs": [],
   "source": [
    "datetimelikecolumns = ['date','min_timestamp_date','min_timestamp_time','max_timestamp','date.1','upsell_timestamp_date','upsell_timestamp_time']\n",
    "catagoricalCols = []\n",
    "n = df.shape[0]"
   ]
  },
  {
   "cell_type": "code",
   "execution_count": null,
   "id": "f36456da-5e9e-4bf2-9c5f-5d4b3f26ad90",
   "metadata": {},
   "outputs": [],
   "source": [
    "dropColumns = ['date','min_timestamp_date','min_timestamp_time','Recipe','purchase_flag','upgrade_and_purchase','hit either yes or no','max_timestamp','purchase_product_1', \n",
    "               'purchase_product_2', 'purchase_product_3', \n",
    "               'purchase_product_4', 'purchase_units_product_1','purchase_units_product_2', 'purchase_units_product_3', 'purchase_units_product_4',\n",
    "               'purchase_revenue_product_1','purchase_revenue_product_2','purchase_revenue_product_3','purchase_revenue_product_4','IPD vs NonIPD',\n",
    "               'date.1','upsell_timestamp_date','upsell_timestamp_time']\n",
    "masterDF = df.drop(dropColumns,axis=1)\n",
    "\n",
    "for col in masterDF.columns:\n",
    "    col = str(col)\n",
    "    parsedValues = [util.tryParse(x)[1] for x in masterDF[col] if util.tryParse(x)[0]]\n",
    "    if (col == 'user_State' or len(parsedValues) == 0 or (len(list(set(masterDF[col]))) > 2 and len(list(set(masterDF[col]))) <= 30)) and col not in datetimelikecolumns:\n",
    "        catagoricalCols.append(col)\n",
    "\n",
    "for catcol in catagoricalCols:\n",
    "    dummyDF = pd.get_dummies(masterDF[catcol])\n",
    "    masterDF = pd.concat([masterDF,dummyDF],axis = 1)\n",
    "    masterDF.drop(catcol,axis=1,inplace=True)"
   ]
  },
  {
   "cell_type": "code",
   "execution_count": null,
   "id": "48053612-807b-42a1-883d-72eccd38055b",
   "metadata": {},
   "outputs": [],
   "source": [
    "XTrain,XTest,purchaseTrain,purchaseTest = train_test_split(masterDF, df['purchase_flag'], test_size=0.2)\n",
    "idTrain = XTrain['source_visitor_id']\n",
    "idTest = XTest['source_visitor_id']\n",
    "revenueTrain = XTrain['orderRevenue']\n",
    "hikingTrain = XTrain['hikeRevenue']\n",
    "revenueTest = XTest['orderRevenue']\n",
    "hikingTest = XTest['hikeRevenue']\n",
    "XTrain = XTrain.drop(['source_visitor_id','orderRevenue','hikeRevenue'],axis=1)\n",
    "XTest = XTest.drop(['source_visitor_id','orderRevenue','hikeRevenue'],axis=1)"
   ]
  },
  {
   "cell_type": "markdown",
   "id": "4c5b4e05-fbfc-4480-a424-753641c7dfab",
   "metadata": {},
   "source": [
    "# Conversion Rate Experiments"
   ]
  },
  {
   "cell_type": "markdown",
   "id": "c7280066-23f7-4ddd-af70-d665790d75bf",
   "metadata": {},
   "source": [
    "## Training"
   ]
  },
  {
   "cell_type": "code",
   "execution_count": null,
   "id": "01745b3d-5f35-43d8-b5bb-70fc049336d6",
   "metadata": {},
   "outputs": [],
   "source": [
    "conversionForest = rfc(max_depth = int(np.sqrt(len(XTrain.columns))),max_features = int(np.sqrt(len(XTrain.columns))))\n",
    "conversionForest.fit(XTrain,purchaseTrain)\n",
    "purchasePredict = conversionForest.predict(XTrain)\n",
    "sm.accuracy_score(purchaseTrain,purchasePredict)"
   ]
  },
  {
   "cell_type": "markdown",
   "id": "de0821c9-a62e-4172-988e-4460eecbdaf3",
   "metadata": {},
   "source": [
    "## Testing"
   ]
  },
  {
   "cell_type": "code",
   "execution_count": null,
   "id": "106eab81-423c-490f-bf13-7b7e24cb6314",
   "metadata": {},
   "outputs": [],
   "source": [
    "purchaseTestPredict = conversionForest.predict(XTest)\n",
    "sm.accuracy_score(purchaseTest,purchaseTestPredict)"
   ]
  },
  {
   "cell_type": "markdown",
   "id": "07119454-a89d-4679-823e-88e8ad476349",
   "metadata": {},
   "source": [
    "## Importances"
   ]
  },
  {
   "cell_type": "code",
   "execution_count": null,
   "id": "1d2c6642-7316-4d17-979b-8d0c65462121",
   "metadata": {},
   "outputs": [],
   "source": [
    "util.displayFeatureImportances(list(XTrain.columns),conversionForest)"
   ]
  },
  {
   "cell_type": "code",
   "execution_count": null,
   "id": "6f5d43b8-5b9b-4d31-b09b-eb77f46078f5",
   "metadata": {},
   "outputs": [],
   "source": [
    "sum(masterDF['no_thanks_flag'] & masterDF['yes_upgrade_flag'])"
   ]
  },
  {
   "cell_type": "code",
   "execution_count": null,
   "id": "f30a97a8-c211-4993-86e7-c6dee93868a4",
   "metadata": {},
   "outputs": [],
   "source": [
    "sum((masterDF['no_thanks_flag'] == False) & (masterDF['yes_upgrade_flag'] == False))"
   ]
  },
  {
   "cell_type": "code",
   "execution_count": null,
   "id": "a936c7e6-c0dc-4699-89c3-e98f9413bd39",
   "metadata": {},
   "outputs": [],
   "source": [
    "masterDF.shape[0]"
   ]
  },
  {
   "cell_type": "markdown",
   "id": "892a7502-7b4f-4ac6-bd41-e394e63f4c49",
   "metadata": {},
   "source": [
    "## Experimentation"
   ]
  },
  {
   "cell_type": "code",
   "execution_count": null,
   "id": "100b2e0a-6b6c-46b5-ab4c-2a93d65f1471",
   "metadata": {},
   "outputs": [],
   "source": [
    "nUsers = len(list(set(masterDF['source_visitor_id'])))"
   ]
  },
  {
   "cell_type": "code",
   "execution_count": null,
   "id": "d40371c9-243a-4f05-bb22-f12774e19713",
   "metadata": {},
   "outputs": [],
   "source": [
    "controlConversionDF = masterDF.copy()\n",
    "controlConversionDF['purchase_flag'] = conversionForest.predict(masterDF.drop(['source_visitor_id','orderRevenue','hikeRevenue'],axis=1))\n",
    "controlConversionStatsDF = util.conversionPerUser(controlConversionDF)\n",
    "print(f\"Conversion Rate per User: {controlConversionStatsDF['conversionRate'].mean()} +/- {controlConversionStatsDF['conversionRate'].std()/np.sqrt(nUsers)}\")"
   ]
  },
  {
   "cell_type": "code",
   "execution_count": null,
   "id": "d8f4af4e-ac3f-4dfa-8433-5e695f326407",
   "metadata": {},
   "outputs": [],
   "source": [
    "noThankYouDF = masterDF.copy()\n",
    "noThankYouDF['no_thanks_flag'] = 1\n",
    "noThankYouDF['yes_upgrade_flag'] = 0\n",
    "noThankYouDF['purchase_flag'] = conversionForest.predict(noThankYouDF.drop(['source_visitor_id','orderRevenue','hikeRevenue'],axis=1))\n",
    "noThankYouStatsDF = util.conversionPerUser(noThankYouDF)\n",
    "print(f\"Conversion Rate per User: {noThankYouStatsDF['conversionRate'].mean()} +/- {noThankYouStatsDF['conversionRate'].std()/np.sqrt(nUsers)}\")"
   ]
  },
  {
   "cell_type": "code",
   "execution_count": null,
   "id": "608ce2a0-d765-4c00-aea7-3789555aa2b1",
   "metadata": {},
   "outputs": [],
   "source": [
    "yesUpgradeDF = masterDF.copy()\n",
    "yesUpgradeDF['no_thanks_flag'] = 0\n",
    "yesUpgradeDF['yes_upgrade_flag'] = 1\n",
    "yesUpgradeDF['purchase_flag'] = conversionForest.predict(yesUpgradeDF.drop(['source_visitor_id','orderRevenue','hikeRevenue'],axis=1))\n",
    "yesUpgradeStatsDF = util.conversionPerUser(yesUpgradeDF)\n",
    "print(f\"Conversion Rate per User: {yesUpgradeStatsDF['conversionRate'].mean()} +/- {yesUpgradeStatsDF['conversionRate'].std()/np.sqrt(nUsers)}\")"
   ]
  },
  {
   "cell_type": "code",
   "execution_count": null,
   "id": "84d0be01-2e7e-45e1-80dc-355c6a1b4dcb",
   "metadata": {},
   "outputs": [],
   "source": [
    "print('No vs control t-test')\n",
    "print(stats.ttest_ind(controlConversionStatsDF['conversionRate'],noThankYouStatsDF['conversionRate']))\n",
    "print('Yes vs control t-test')\n",
    "print(stats.ttest_ind(controlConversionStatsDF['conversionRate'],yesUpgradeStatsDF['conversionRate']))\n",
    "print('Yes vs No t-test')\n",
    "print(stats.ttest_ind(noThankYouStatsDF['conversionRate'],yesUpgradeStatsDF['conversionRate']))"
   ]
  },
  {
   "cell_type": "markdown",
   "id": "5df5369e-7231-483c-82a0-525e08af7d39",
   "metadata": {},
   "source": [
    "# Revenue Experiments"
   ]
  },
  {
   "cell_type": "markdown",
   "id": "95ab49f1-c1d5-44e0-a9c4-ef13ee7b90de",
   "metadata": {},
   "source": [
    "## Overall Revenue"
   ]
  },
  {
   "cell_type": "markdown",
   "id": "3a98d636-6bae-4dac-809b-ebae168485c8",
   "metadata": {},
   "source": [
    "### Training"
   ]
  },
  {
   "cell_type": "code",
   "execution_count": null,
   "id": "4f89d6ce-0fb1-4566-b248-c1f1d7c4e9c2",
   "metadata": {},
   "outputs": [],
   "source": [
    "revenueForest = rfr(max_depth = int(np.sqrt(len(XTrain.columns))),max_features = int(np.sqrt(len(XTrain.columns))))\n",
    "revenueForest.fit(XTrain,revenueTrain)\n",
    "revenuePredict = revenueForest.predict(XTrain)\n",
    "math.sqrt(sm.mean_squared_error(revenueTrain,revenuePredict)) #Dollar ammount"
   ]
  },
  {
   "cell_type": "markdown",
   "id": "4f11158e-b782-4269-99db-7451dedae69e",
   "metadata": {},
   "source": [
    "### Testing"
   ]
  },
  {
   "cell_type": "code",
   "execution_count": null,
   "id": "d8dbe93b-d827-4491-bfae-66fae6e5cb52",
   "metadata": {},
   "outputs": [],
   "source": [
    "revenueTestPredict = revenueForest.predict(XTest)\n",
    "math.sqrt(sm.mean_squared_error(revenueTest,revenueTestPredict)) #Dollar ammount"
   ]
  },
  {
   "cell_type": "markdown",
   "id": "ae53180a-f8c1-4996-895b-03cdc95d72f7",
   "metadata": {},
   "source": [
    "### Importances"
   ]
  },
  {
   "cell_type": "code",
   "execution_count": null,
   "id": "a840841e-eec9-42fe-841f-2cb00d528d33",
   "metadata": {},
   "outputs": [],
   "source": [
    "util.displayFeatureImportances(list(XTrain.columns),revenueForest)"
   ]
  },
  {
   "cell_type": "markdown",
   "id": "0066a589-ab2f-483d-be88-c8ecf9cc8b70",
   "metadata": {},
   "source": [
    "### Experimentation"
   ]
  },
  {
   "cell_type": "code",
   "execution_count": null,
   "id": "7b0a73c1-04f9-4da9-a856-6ca1173ad50c",
   "metadata": {},
   "outputs": [],
   "source": [
    "nOrders = masterDF.shape[0]"
   ]
  },
  {
   "cell_type": "code",
   "execution_count": null,
   "id": "9e689423-9c52-4591-9705-c63ff9db54b9",
   "metadata": {},
   "outputs": [],
   "source": [
    "controlRevenueDF = masterDF.copy()\n",
    "controlRevenue = revenueForest.predict(masterDF.drop(['source_visitor_id','orderRevenue','hikeRevenue'],axis=1))\n",
    "print(f\"Control Revenue per Order: {np.mean(controlRevenue)} +/- {np.std(controlRevenue)/np.sqrt(nOrders)}\")"
   ]
  },
  {
   "cell_type": "code",
   "execution_count": null,
   "id": "e546e362-87d9-46a2-bab0-8037e52c3141",
   "metadata": {},
   "outputs": [],
   "source": [
    "noThankYouDF = masterDF.copy()\n",
    "noThankYouDF['no_thanks_flag'] = 1\n",
    "noThankYouDF['yes_upgrade_flag'] = 0\n",
    "noThankYouRevenue = revenueForest.predict(noThankYouDF.drop(['source_visitor_id','orderRevenue','hikeRevenue'],axis=1))\n",
    "print(f\"No Thank You Revenue per Order: {np.mean(noThankYouRevenue)} +/- {np.std(noThankYouRevenue)/np.sqrt(nOrders)}\")"
   ]
  },
  {
   "cell_type": "code",
   "execution_count": null,
   "id": "63bac8a0-dd20-445e-a900-542a4491c0ff",
   "metadata": {},
   "outputs": [],
   "source": [
    "yesUpgradeDF = masterDF.copy()\n",
    "yesUpgradeDF['no_thanks_flag'] = 0\n",
    "yesUpgradeDF['yes_upgrade_flag'] = 1\n",
    "yesUpgradeRevenue = revenueForest.predict(yesUpgradeDF.drop(['source_visitor_id','orderRevenue','hikeRevenue'],axis=1))\n",
    "print(f\"Yes Upgrade Revenue per Order: {np.mean(yesUpgradeRevenue)} +/- {np.std(yesUpgradeRevenue)/np.sqrt(nOrders)}\")"
   ]
  },
  {
   "cell_type": "code",
   "execution_count": null,
   "id": "b8e10bd3-97dd-411a-8e72-69f3cc560889",
   "metadata": {},
   "outputs": [],
   "source": [
    "print('No vs control t-test')\n",
    "print(stats.ttest_ind(controlRevenue,noThankYouRevenue))\n",
    "print('Yes vs control t-test')\n",
    "print(stats.ttest_ind(controlRevenue,yesUpgradeRevenue))\n",
    "print('Yes vs No t-test')\n",
    "print(stats.ttest_ind(noThankYouRevenue,yesUpgradeRevenue))"
   ]
  },
  {
   "cell_type": "markdown",
   "id": "f6c3080f-58e9-41c0-8b8f-b91167a46d6d",
   "metadata": {},
   "source": [
    "## Hiking Revenue"
   ]
  },
  {
   "cell_type": "markdown",
   "id": "61c905b1-482a-4345-90f7-a42f86d29857",
   "metadata": {},
   "source": [
    "### Training"
   ]
  },
  {
   "cell_type": "code",
   "execution_count": null,
   "id": "ece7faf9-ade6-4d8e-9d7a-71abc23951b2",
   "metadata": {},
   "outputs": [],
   "source": [
    "hikingForest = rfr(max_depth = int(np.sqrt(len(XTrain.columns))),max_features = int(np.sqrt(len(XTrain.columns))))\n",
    "hikingForest.fit(XTrain,hikingTrain)\n",
    "hikingPredict = hikingForest.predict(XTrain)\n",
    "math.sqrt(sm.mean_squared_error(hikingTrain,hikingPredict)) #Dollar ammount"
   ]
  },
  {
   "cell_type": "markdown",
   "id": "fdcfd68d-fced-43a8-b409-a49ed2fc8504",
   "metadata": {},
   "source": [
    "### Testing"
   ]
  },
  {
   "cell_type": "code",
   "execution_count": null,
   "id": "7125d467-21ee-45d0-a91e-83c3138bbdb4",
   "metadata": {},
   "outputs": [],
   "source": [
    "hikingTestPredict = hikingForest.predict(XTest)\n",
    "math.sqrt(sm.mean_squared_error(hikingTest,hikingTestPredict)) #Dollar ammount"
   ]
  },
  {
   "cell_type": "markdown",
   "id": "abf89e59-b561-47ad-879d-bde9697c0c33",
   "metadata": {},
   "source": [
    "### Importances"
   ]
  },
  {
   "cell_type": "code",
   "execution_count": null,
   "id": "df6ede6d-9876-4afb-94a3-8221a994cb60",
   "metadata": {},
   "outputs": [],
   "source": [
    "util.displayFeatureImportances(list(XTrain.columns),hikingForest)"
   ]
  },
  {
   "cell_type": "markdown",
   "id": "0860671a-5dd6-46e1-b99e-7890432485cb",
   "metadata": {},
   "source": [
    "### Experimentation"
   ]
  },
  {
   "cell_type": "code",
   "execution_count": null,
   "id": "b19ea5cc-f774-435c-abe2-ff98af6dfef2",
   "metadata": {},
   "outputs": [],
   "source": [
    "nOrders = masterDF.shape[0]"
   ]
  },
  {
   "cell_type": "code",
   "execution_count": null,
   "id": "702fa0b8-d69a-4ca6-9cf4-8329679be7ad",
   "metadata": {},
   "outputs": [],
   "source": [
    "controlHikingDF = masterDF.copy()\n",
    "controlHiking = hikingForest.predict(masterDF.drop(['source_visitor_id','orderRevenue','hikeRevenue'],axis=1))\n",
    "print(f\"Control Hiking Revenue per Order: {np.mean(controlHiking)} +/- {np.std(controlHiking)/np.sqrt(nOrders)}\")"
   ]
  },
  {
   "cell_type": "code",
   "execution_count": null,
   "id": "1d11eeb6-582c-48a2-a4d1-3b1637856f32",
   "metadata": {},
   "outputs": [],
   "source": [
    "noThankYouDF = masterDF.copy()\n",
    "noThankYouDF['no_thanks_flag'] = 1\n",
    "noThankYouDF['yes_upgrade_flag'] = 0\n",
    "noThankYouHiking = hikingForest.predict(noThankYouDF.drop(['source_visitor_id','orderRevenue','hikeRevenue'],axis=1))\n",
    "print(f\"No Thank You Hiking Revenue per Order: {np.mean(noThankYouHiking)} +/- {np.std(noThankYouHiking)/np.sqrt(nOrders)}\")"
   ]
  },
  {
   "cell_type": "code",
   "execution_count": null,
   "id": "58c4cadf-69f5-4f8d-b9ad-68528103869a",
   "metadata": {},
   "outputs": [],
   "source": [
    "yesUpgradeDF = masterDF.copy()\n",
    "yesUpgradeDF['no_thanks_flag'] = 0\n",
    "yesUpgradeDF['yes_upgrade_flag'] = 1\n",
    "yesUpgradeHiking = hikingForest.predict(yesUpgradeDF.drop(['source_visitor_id','orderRevenue','hikeRevenue'],axis=1))\n",
    "print(f\"Yes Upgrade Revenue per Order: {np.mean(yesUpgradeHiking)} +/- {np.std(yesUpgradeHiking)/np.sqrt(nOrders)}\")"
   ]
  },
  {
   "cell_type": "code",
   "execution_count": null,
   "id": "efd796da-0af5-413b-8f0c-7672b95b90a4",
   "metadata": {},
   "outputs": [],
   "source": [
    "print('No vs control t-test')\n",
    "print(stats.ttest_ind(controlHiking,noThankYouHiking))\n",
    "print('Yes vs control t-test')\n",
    "print(stats.ttest_ind(controlHiking,yesUpgradeHiking))\n",
    "print('Yes vs No t-test')\n",
    "print(stats.ttest_ind(noThankYouHiking,yesUpgradeHiking))"
   ]
  }
 ],
 "metadata": {
  "kernelspec": {
   "display_name": "Python 3 (ipykernel)",
   "language": "python",
   "name": "python3"
  },
  "language_info": {
   "codemirror_mode": {
    "name": "ipython",
    "version": 3
   },
   "file_extension": ".py",
   "mimetype": "text/x-python",
   "name": "python",
   "nbconvert_exporter": "python",
   "pygments_lexer": "ipython3",
   "version": "3.9.13"
  }
 },
 "nbformat": 4,
 "nbformat_minor": 5
}
