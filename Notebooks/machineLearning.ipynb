{
 "cells": [
  {
   "cell_type": "code",
   "execution_count": null,
   "id": "9bb9af08-845b-4bd1-992e-e36bdc85d85f",
   "metadata": {},
   "outputs": [],
   "source": [
    "import numpy as np\n",
    "import pandas as pd\n",
    "import matplotlib.pyplot as plt\n",
    "from datetime import datetime\n",
    "from sklearn.linear_model import LinearRegression\n",
    "import scipy.stats as stats\n",
    "import datetime as dt\n",
    "import decimal\n",
    "\n",
    "import sys\n",
    "sys.path.insert(0, \"../src/\")\n",
    "import util as util\n",
    "\n",
    "%autosave 5"
   ]
  },
  {
   "cell_type": "code",
   "execution_count": null,
   "id": "05d20c8c-236c-4ff8-81af-8085427644f8",
   "metadata": {},
   "outputs": [],
   "source": [
    "df = pd.read_csv('../Data/EvolyticsDataScienceExercise.csv')\n",
    "revenueCols = [col for col in df.columns if 'purchase_revenue' in str(col)]\n",
    "revenuedf = (df[revenueCols])\n",
    "for col in revenueCols:\n",
    "    revenuedf[col] = pd.to_numeric(revenuedf[col],errors='coerce')\n",
    "df['orderRevenue'] = revenuedf.sum(axis=1)"
   ]
  },
  {
   "cell_type": "code",
   "execution_count": null,
   "id": "d1e1294c-6cfb-4e03-9544-c237c88f79a6",
   "metadata": {},
   "outputs": [],
   "source": [
    "datetimelikecolumns = ['date','min_timestamp_date','min_timestamp_time','max_timestamp','date.1','upsell_timestamp_date','upsell_timestamp_time']\n",
    "catagoricalCols = []\n",
    "n = df.shape[0]\n",
    "\n",
    "for col in df.columns:\n",
    "    col = str(col)\n",
    "    parsedValues = [util.tryParse(x)[1] for x in df[col] if util.tryParse(x)[0]]\n",
    "    if (col == 'user_State' or len(parsedValues) == 0 or (len(list(set(df[col]))) <= 30)) and col not in datetimelikecolumns:\n",
    "        catagoricalCols.append(col)"
   ]
  }
 ],
 "metadata": {
  "kernelspec": {
   "display_name": "Python 3 (ipykernel)",
   "language": "python",
   "name": "python3"
  },
  "language_info": {
   "codemirror_mode": {
    "name": "ipython",
    "version": 3
   },
   "file_extension": ".py",
   "mimetype": "text/x-python",
   "name": "python",
   "nbconvert_exporter": "python",
   "pygments_lexer": "ipython3",
   "version": "3.9.13"
  }
 },
 "nbformat": 4,
 "nbformat_minor": 5
}
