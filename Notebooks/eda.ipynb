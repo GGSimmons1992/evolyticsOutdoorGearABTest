{
 "cells": [
  {
   "cell_type": "code",
   "execution_count": null,
   "id": "e921104b-1e94-41eb-98b7-52702372786a",
   "metadata": {},
   "outputs": [],
   "source": [
    "import numpy as np\n",
    "import pandas as pd\n",
    "import matplotlib.pyplot as plt\n",
    "from datetime import datetime\n",
    "from sklearn.linear_model import LinearRegression\n",
    "import scipy.stats as stats\n",
    "import datetime as dt\n",
    "import decimal\n",
    "\n",
    "import sys\n",
    "sys.path.insert(0, \"../src/\")\n",
    "import util as util\n",
    "\n",
    "%autosave 5"
   ]
  },
  {
   "cell_type": "code",
   "execution_count": null,
   "id": "b6c04036-a4d1-464a-ad3f-ac55a69399bc",
   "metadata": {},
   "outputs": [],
   "source": [
    "df = pd.read_csv('../Data/EvolyticsDataScienceExercise.csv')\n",
    "revenueCols = [col for col in df.columns if 'purchase_revenue' in str(col)]\n",
    "revenuedf = (df[revenueCols])\n",
    "for col in revenueCols:\n",
    "    revenuedf[col] = pd.to_numeric(revenuedf[col],errors='coerce')\n",
    "df['orderRevenue'] = revenuedf.sum(axis=1)"
   ]
  },
  {
   "cell_type": "code",
   "execution_count": null,
   "id": "dd3e90d3-931e-4e9a-8681-ec95a106ad6f",
   "metadata": {},
   "outputs": [],
   "source": [
    "revenuedf"
   ]
  },
  {
   "cell_type": "markdown",
   "id": "73367769-1a76-4a29-9dfe-c3903191481e",
   "metadata": {},
   "source": [
    "# Univariate Analysis"
   ]
  },
  {
   "cell_type": "code",
   "execution_count": null,
   "id": "7b953460-e42d-429f-abfa-5faed403bf18",
   "metadata": {
    "tags": []
   },
   "outputs": [],
   "source": [
    "datetimelikecolumns = ['date','min_timestamp_date','min_timestamp_time','max_timestamp','date.1','upsell_timestamp_date','upsell_timestamp_time']\n",
    "catagoricalCols = []\n",
    "\n",
    "n = df.shape[0]\n",
    "for col in df.columns:\n",
    "    col = str(col)\n",
    "    print(col)\n",
    "    parsedValues = [util.tryParse(x)[1] for x in df[col] if util.tryParse(x)[0]]\n",
    "    \n",
    "    if col in datetimelikecolumns:\n",
    "        sample = df[df[col] != \"(null)\"].dropna()[col]\n",
    "        sample =  [x for x in pd.to_datetime(sample)]\n",
    "        n_nans = n - len(sample)\n",
    "        print(f'{n_nans} nans found. {n_nans*100.0/n}% of data is nan')\n",
    "        fig = plt.figure()\n",
    "        plt.hist(sample)\n",
    "        plt.xticks(rotation=90)\n",
    "        plt.show()\n",
    "    elif (col != 'user_State' and len(parsedValues) > 0 ) and (len(list(set(df[col]))) > 30):\n",
    "        sample = np.array(parsedValues)\n",
    "        n_nans = n - len(sample)\n",
    "        print(f'{n_nans} nans found. {n_nans*100.0/n}% of data is nan')\n",
    "        print(f'{np.mean(sample)} +/- {np.std(sample)}')\n",
    "        fig = plt.figure()\n",
    "        plt.hist(sample)\n",
    "        plt.show()\n",
    "    else:\n",
    "        catagoricalCols.append(col)\n",
    "        print(df[col].value_counts())\n",
    "    "
   ]
  },
  {
   "cell_type": "markdown",
   "id": "d6624785-2dbf-4440-907b-c91fb49be738",
   "metadata": {},
   "source": [
    "# Correlation Analysis"
   ]
  },
  {
   "cell_type": "code",
   "execution_count": null,
   "id": "31d031cc-4c08-4330-b62d-ae89015743ba",
   "metadata": {},
   "outputs": [],
   "source": [
    "corrDictionary = {\n",
    "    \"name\":[],\n",
    "    \"iCol\":[],\n",
    "    \"jCol\":[],\n",
    "    \"r\":[],\n",
    "    \"absr\":[],\n",
    "    \"p\":[],\n",
    "    \"m\":[],\n",
    "    \"b\":[]\n",
    "}\n",
    "dfCopy = df.copy()\n",
    "for dtcol in datetimelikecolumns:\n",
    "    dfCopy[dtcol] = (pd.to_datetime(dfCopy[dtcol],errors='coerce') - dt.datetime(1970,1,1)).dt.total_seconds()\n",
    "\n",
    "for catcol in catagoricalCols:\n",
    "    dummyDF = pd.get_dummies(dfCopy[catcol])\n",
    "    pd.concat([dfCopy,dummyDF],axis = 1)\n",
    "    #for dummyCol in dummyDF.columns:\n",
    "        #dfCopy[dummyCol] = dummyDF[dummyCol]\n",
    "    dfCopy.drop(catcol,axis=1,inplace=True)\n",
    "    \n",
    "for i,iCol in enumerate(dfCopy.columns):\n",
    "    if dfCopy[iCol].dtype == '<U38':\n",
    "        dfCopy[iCol] = dfCopy[iCol].apply(lambda x: float(decimal.Decimal(x)))\n",
    "    for j,jCol in enumerate(dfCopy.columns):\n",
    "        if dfCopy[jCol].dtype == '<U38':\n",
    "            dfCopy[jCol] = dfCopy[jCol].apply(lambda x: float(decimal.Decimal(x)))\n",
    "        if i < j:\n",
    "            corrDF = dfCopy[[iCol,jCol]].dropna()\n",
    "            if corrDF.shape[0] > 0:\n",
    "                iList = [util.tryParse(x)[1] for x in corrDF[iCol]]\n",
    "                jList = [util.tryParse(y)[1] for y in corrDF[jCol]]\n",
    "                r,p = stats.spearmanr(iList,jList)\n",
    "                if p < 0.05 and abs(r) >= .1:\n",
    "                    corrDictionary[\"name\"].append(f\"{jCol} vs {iCol}\")\n",
    "                    corrDictionary[\"iCol\"].append(iCol) \n",
    "                    corrDictionary[\"jCol\"].append(jCol) \n",
    "                    corrDictionary[\"r\"].append(r)\n",
    "                    corrDictionary[\"absr\"].append(abs(r))\n",
    "                    corrDictionary[\"p\"].append(p)\n",
    "                    lm = LinearRegression()\n",
    "                    lm.fit(np.array(corrDF[iCol]).reshape(-1,1),np.array(corrDF[jCol]).reshape(-1,1))\n",
    "                    corrDictionary[\"m\"].append(lm.coef_[0][0])\n",
    "                    corrDictionary[\"b\"].append(lm.intercept_[0])\n",
    "                "
   ]
  },
  {
   "cell_type": "code",
   "execution_count": null,
   "id": "b0a22f04-a67c-4835-804f-45939363eb72",
   "metadata": {},
   "outputs": [],
   "source": [
    "corrDF = pd.DataFrame(corrDictionary,columns=list(corrDictionary.keys())).sort_values(by='absr',ascending=False)"
   ]
  },
  {
   "cell_type": "code",
   "execution_count": null,
   "id": "adcbf38c-0bdf-458e-a2c7-efbefbd85170",
   "metadata": {},
   "outputs": [],
   "source": [
    "for i in range(corrDF.shape[0]):\n",
    "    name = corrDF.iloc[i,corrDF.columns.get_loc('name')]\n",
    "    iCol = corrDF.iloc[i,corrDF.columns.get_loc('iCol')]\n",
    "    jCol = corrDF.iloc[i,corrDF.columns.get_loc('jCol')]\n",
    "    r = corrDF.iloc[i,corrDF.columns.get_loc('r')]\n",
    "    m = corrDF.iloc[i,corrDF.columns.get_loc('m')]\n",
    "    b = corrDF.iloc[i,corrDF.columns.get_loc('b')]\n",
    "    p = corrDF.iloc[i,corrDF.columns.get_loc('p')]\n",
    "    fig = plt.figure()\n",
    "    plotDF = dfCopy[[iCol,jCol]].dropna()\n",
    "    iData = [util.tryParse(x)[1] for x in plotDF[iCol]]\n",
    "    jData = [util.tryParse(y)[1] for y in plotDF[jCol]]\n",
    "    plt.scatter(iData,jData)\n",
    "    x = np.linspace(min(iData),max(iData))\n",
    "    y = m * x + b\n",
    "    plt.plot(x,y)\n",
    "    plt.title(f'{name} R={r} p={p}')\n",
    "    plt.xlabel(iCol)\n",
    "    plt.xticks(rotation=90)\n",
    "    plt.ylabel(jCol)\n",
    "    plt.show()"
   ]
  },
  {
   "cell_type": "code",
   "execution_count": null,
   "id": "05c4b523-7d64-465b-9e1a-1a706eb15ff3",
   "metadata": {},
   "outputs": [],
   "source": [
    "corrDF"
   ]
  },
  {
   "cell_type": "markdown",
   "id": "e935eb20-0765-4454-9af7-8f507c9b3562",
   "metadata": {},
   "source": [
    "# Conversion Analysis"
   ]
  },
  {
   "cell_type": "code",
   "execution_count": null,
   "id": "e5d7f856-704a-4474-acef-c278eaef6ef8",
   "metadata": {},
   "outputs": [],
   "source": [
    "uniqueUsers = list(set(df['source_visitor_id']))\n",
    "conversionDictionary = {\n",
    "    'user': [],\n",
    "    'experimentalVisits': [],\n",
    "    'ordersMade': [],\n",
    "    'totalRevenueFromUser':[]\n",
    "}\n",
    "for user in uniqueUsers:\n",
    "    conversionDictionary['user'].append(user)\n",
    "    userDF = df[df['source_visitor_id'] == user]\n",
    "    conversionDictionary['experimentalVisits'].append(userDF.shape[0])\n",
    "    conversionDictionary['ordersMade'].append(userDF['purchase_flag'].sum())\n",
    "    conversionDictionary['totalRevenueFromUser'].append(userDF['orderRevenue'].sum())\n",
    "conversionDF = pd.DataFrame(conversionDictionary,columns=list(conversionDictionary.keys()))\n",
    "conversionDF['conversionRate'] = conversionDF['ordersMade']/conversionDF['experimentalVisits']"
   ]
  },
  {
   "cell_type": "code",
   "execution_count": null,
   "id": "ead5d29c-be6a-4a3c-92e9-f0284c9a1d11",
   "metadata": {},
   "outputs": [],
   "source": [
    "print(f\"Conversion Rate per User: {conversionDF['conversionRate'].mean()} +/- {conversionDF['conversionRate'].std()/np.sqrt(userDF.shape[0])}\")\n",
    "print(f\"Average Total Revenue per User: {conversionDF['totalRevenueFromUser'].mean()} +/- {conversionDF['totalRevenueFromUser'].std()/np.sqrt(userDF.shape[0])}\")"
   ]
  },
  {
   "cell_type": "code",
   "execution_count": null,
   "id": "d67d1032-2a30-4eef-b4d3-87fa9e2d7dc2",
   "metadata": {},
   "outputs": [],
   "source": [
    "conversionDF['experimentalVisits'].value_counts()"
   ]
  },
  {
   "cell_type": "code",
   "execution_count": null,
   "id": "2f1c1e48-059d-4f5d-abf1-5c2899320ddd",
   "metadata": {},
   "outputs": [],
   "source": [
    "conversionDF['ordersMade'].value_counts()"
   ]
  },
  {
   "cell_type": "markdown",
   "id": "91409a00-45fe-4852-b912-1b09e28451c9",
   "metadata": {},
   "source": [
    "# Revenue Per Order Analysis"
   ]
  },
  {
   "cell_type": "code",
   "execution_count": null,
   "id": "2f946f53-4f44-4fde-a4a1-17c85207c50d",
   "metadata": {},
   "outputs": [],
   "source": [
    "print(f\"Average Revenue per Order: {df['orderRevenue'].mean()} +/- {df['orderRevenue'].std()/np.sqrt(df.shape[0])}\")"
   ]
  }
 ],
 "metadata": {
  "kernelspec": {
   "display_name": "Python 3 (ipykernel)",
   "language": "python",
   "name": "python3"
  },
  "language_info": {
   "codemirror_mode": {
    "name": "ipython",
    "version": 3
   },
   "file_extension": ".py",
   "mimetype": "text/x-python",
   "name": "python",
   "nbconvert_exporter": "python",
   "pygments_lexer": "ipython3",
   "version": "3.9.13"
  }
 },
 "nbformat": 4,
 "nbformat_minor": 5
}
