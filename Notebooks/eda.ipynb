{
 "cells": [
  {
   "cell_type": "code",
   "execution_count": null,
   "id": "e921104b-1e94-41eb-98b7-52702372786a",
   "metadata": {},
   "outputs": [],
   "source": [
    "import numpy as np\n",
    "import pandas as pd\n",
    "import matplotlib.pyplot as plt\n",
    "import sys\n",
    "sys.path.insert(0, \"../src/\")\n",
    "import util as util\n",
    "\n",
    "%autosave 5"
   ]
  },
  {
   "cell_type": "code",
   "execution_count": null,
   "id": "7b953460-e42d-429f-abfa-5faed403bf18",
   "metadata": {
    "tags": []
   },
   "outputs": [],
   "source": [
    "df = pd.read_csv('../Data/EvolyticsDataScienceExercise.csv')\n",
    "n = df.shape[0]\n",
    "dateColumns = []\n",
    "for col in df.columns:\n",
    "    col = str(col)\n",
    "    print(col)\n",
    "    parsedValues = [util.tryParse(x)[1] for x in df[col] if util.tryParse(x)[0]]\n",
    "    \n",
    "    coltype = df[col].dtype\n",
    "    if (len(parsedValues) > 0 ) and (len(list(set(df[col]))) > 15):\n",
    "        sample = np.array(parsedValues)\n",
    "        n_nans = n - len(sample)\n",
    "        print(f'{n_nans} nans found. {n_nans*100.0/n}% of data is nan')\n",
    "        print(f'{np.mean(sample)} +/- {np.std(sample)}')\n",
    "        fig = plt.figure()\n",
    "        plt.hist(sample)\n",
    "        plt.show()\n",
    "    else:\n",
    "        print(list(set(df[col])))\n",
    "    "
   ]
  },
  {
   "cell_type": "code",
   "execution_count": null,
   "id": "31d031cc-4c08-4330-b62d-ae89015743ba",
   "metadata": {},
   "outputs": [],
   "source": []
  }
 ],
 "metadata": {
  "kernelspec": {
   "display_name": "Python 3 (ipykernel)",
   "language": "python",
   "name": "python3"
  },
  "language_info": {
   "codemirror_mode": {
    "name": "ipython",
    "version": 3
   },
   "file_extension": ".py",
   "mimetype": "text/x-python",
   "name": "python",
   "nbconvert_exporter": "python",
   "pygments_lexer": "ipython3",
   "version": "3.9.13"
  }
 },
 "nbformat": 4,
 "nbformat_minor": 5
}
