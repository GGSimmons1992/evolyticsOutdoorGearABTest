{
 "cells": [
  {
   "cell_type": "code",
   "execution_count": null,
   "id": "e921104b-1e94-41eb-98b7-52702372786a",
   "metadata": {},
   "outputs": [],
   "source": [
    "import numpy as np\n",
    "import pandas as pd\n",
    "import matplotlib.pyplot as plt\n",
    "from datetime import datetime\n",
    "from sklearn.linear_model import LinearRegression\n",
    "import scipy.stats as stats\n",
    "\n",
    "import sys\n",
    "sys.path.insert(0, \"../src/\")\n",
    "import util as util\n",
    "\n",
    "%autosave 5"
   ]
  },
  {
   "cell_type": "code",
   "execution_count": null,
   "id": "b6c04036-a4d1-464a-ad3f-ac55a69399bc",
   "metadata": {},
   "outputs": [],
   "source": [
    "df = pd.read_csv('../Data/EvolyticsDataScienceExercise.csv')\n",
    "revenueCols = [col for col in df.columns if 'purchase_revenue' in str(col)]\n",
    "revenuedf = df[revenueCols]\n",
    "df[orderRevenue] = revenuedf.sum(axis=1)"
   ]
  },
  {
   "cell_type": "markdown",
   "id": "73367769-1a76-4a29-9dfe-c3903191481e",
   "metadata": {},
   "source": [
    "# Univariate Analysis"
   ]
  },
  {
   "cell_type": "code",
   "execution_count": null,
   "id": "7b953460-e42d-429f-abfa-5faed403bf18",
   "metadata": {
    "tags": []
   },
   "outputs": [],
   "source": [
    "datetimelikecolumns = ['date','min_timestamp_date','min_timestamp_time','max_timestamp','date.1','upsell_timestamp_date','upsell_timestamp_time']\n",
    "catagoricalCols = []\n",
    "\n",
    "n = df.shape[0]\n",
    "dateColumns = []\n",
    "for col in df.columns:\n",
    "    col = str(col)\n",
    "    print(col)\n",
    "    parsedValues = [util.tryParse(x)[1] for x in df[col] if util.tryParse(x)[0]]\n",
    "    \n",
    "    if col in datetimelikecolumns:\n",
    "        sample = df[df[col] != \"(null)\"].dropna()[col]\n",
    "        sample =  [x for x in pd.to_datetime(sample)]\n",
    "        n_nans = n - len(sample)\n",
    "        print(f'{n_nans} nans found. {n_nans*100.0/n}% of data is nan')\n",
    "        fig = plt.figure()\n",
    "        plt.hist(sample)\n",
    "        plt.xticks(rotation=90)\n",
    "        plt.show()\n",
    "    elif (len(parsedValues) > 0 ) and (len(list(set(df[col]))) > 15):\n",
    "        sample = np.array(parsedValues)\n",
    "        n_nans = n - len(sample)\n",
    "        print(f'{n_nans} nans found. {n_nans*100.0/n}% of data is nan')\n",
    "        print(f'{np.mean(sample)} +/- {np.std(sample)}')\n",
    "        fig = plt.figure()\n",
    "        plt.hist(sample)\n",
    "        plt.show()\n",
    "    else:\n",
    "        categoricalCols.append(col)\n",
    "        print(df[col].value_counts())\n",
    "    "
   ]
  },
  {
   "cell_type": "markdown",
   "id": "d6624785-2dbf-4440-907b-c91fb49be738",
   "metadata": {},
   "source": [
    "# Correlation Analysis"
   ]
  },
  {
   "cell_type": "code",
   "execution_count": null,
   "id": "31d031cc-4c08-4330-b62d-ae89015743ba",
   "metadata": {},
   "outputs": [],
   "source": [
    "corrDictionary = {\n",
    "    \"name\":[],\n",
    "    \"iCol\":[],\n",
    "    \"jCol\":[],\n",
    "    \"r\":[],\n",
    "    \"absr\":[],\n",
    "    \"p\":[],\n",
    "    \"m\":[],\n",
    "    \"b\":[]\n",
    "}\n",
    "dfCopy = df.copy()\n",
    "for dtcol in datetimelikecolumns:\n",
    "    dfCopy[dtcol] = pd.to_datetime()\n",
    "\n",
    "for catcol in catagoricalCols:\n",
    "    dummyDF = pd.get_dummies(dfCopy[catcol])\n",
    "    for dummyCol in dummyDF.columns:\n",
    "        dfCopy[dummyCol] = dummyDF[dummyCol]\n",
    "    dfCopy.drop(catcol,axis=1,inplace=True)\n",
    "    \n",
    "for i,iCol in enumerate(dfCopy.columns):\n",
    "    for j,jCol in enumerate(dfCopy.columns):\n",
    "        if i < j:\n",
    "            corrDF = dfCopy[[iCol,jCol]].dropna()\n",
    "            iList = list(np.array(corrDF[iCol]).reshape(-1))\n",
    "            jList = list(np.array(corrDF[jCol]).reshape(-1))\n",
    "            r,p = stats.spearmanr(iList,jList)\n",
    "            if p < 0.05:\n",
    "                corrDictionary[\"name\"] += f\"{jCol} vs {iCol}\"\n",
    "                corrDictionary[\"iCol\"] += iCol \n",
    "                corrDictionary[\"jCol\"] += jCol \n",
    "                corrDictionary[\"r\"] += r\n",
    "                corrDictionary[\"absr\"] += abs(r)\n",
    "                corrDictionary[\"p\"] += p\n",
    "                lm = LinearRegression()\n",
    "                lm.fit(corrDF[iCol],corrDF[jCol])\n",
    "                corrDictionary[\"m\"] += lm.coef_[0]\n",
    "                corrDictionary[\"b\"] += lm.intercept_\n",
    "                "
   ]
  },
  {
   "cell_type": "code",
   "execution_count": null,
   "id": "b0fd9256-7901-4099-a64e-d2083f6df884",
   "metadata": {},
   "outputs": [],
   "source": [
    "df[df[\"date\"] != df[\"date.1\"]]"
   ]
  },
  {
   "cell_type": "code",
   "execution_count": null,
   "id": "12a3440b-6841-4c6f-8cbe-faa06a7b96ab",
   "metadata": {},
   "outputs": [],
   "source": []
  }
 ],
 "metadata": {
  "kernelspec": {
   "display_name": "Python 3 (ipykernel)",
   "language": "python",
   "name": "python3"
  },
  "language_info": {
   "codemirror_mode": {
    "name": "ipython",
    "version": 3
   },
   "file_extension": ".py",
   "mimetype": "text/x-python",
   "name": "python",
   "nbconvert_exporter": "python",
   "pygments_lexer": "ipython3",
   "version": "3.9.13"
  }
 },
 "nbformat": 4,
 "nbformat_minor": 5
}
